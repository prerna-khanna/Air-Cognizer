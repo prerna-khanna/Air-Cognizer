{
  "nbformat": 4,
  "nbformat_minor": 0,
  "metadata": {
    "colab": {
      "name": "Feature_Extraction_3.ipynb",
      "version": "0.3.2",
      "provenance": [],
      "include_colab_link": true
    },
    "kernelspec": {
      "name": "python3",
      "display_name": "Python 3"
    }
  },
  "cells": [
    {
      "cell_type": "markdown",
      "metadata": {
        "id": "view-in-github",
        "colab_type": "text"
      },
      "source": [
        "<a href=\"https://colab.research.google.com/github/prerna-khanna/Air-Cognizer/blob/master/Feature_Extraction_3.ipynb\" target=\"_parent\"><img src=\"https://colab.research.google.com/assets/colab-badge.svg\" alt=\"Open In Colab\"/></a>"
      ]
    },
    {
      "metadata": {
        "id": "cCgGz1RAFWSY",
        "colab_type": "text"
      },
      "cell_type": "markdown",
      "source": [
        "The given script was used for extracting features which are dependent upon the concentration of PM2.5 particles suspended in air and hence can be used for estimating the same. There are in total 6 image features:\n",
        "\n",
        "1. Blue \n",
        "\n",
        "2. Transmission \n",
        "\n",
        "3. Gradient \n",
        "\n",
        "4. Root mean square of ROI\n",
        "\n",
        "5. Constrast of ROI\n",
        "\n",
        "6. Entropy\n",
        "\n",
        "## Importing Libraries"
      ]
    },
    {
      "metadata": {
        "id": "aD8tLeIwAtjF",
        "colab_type": "code",
        "colab": {
          "base_uri": "https://localhost:8080/",
          "height": 34
        },
        "outputId": "00978e6f-93a0-4072-87a8-71d521a7d997"
      },
      "cell_type": "code",
      "source": [
        "import cv2;\n",
        "import math;\n",
        "import numpy as np;\n",
        "import os, os.path;\n",
        "from numpy import unique;\n",
        "from scipy.stats import entropy as scipy_entropy\n",
        "import xlwt;\n",
        "from skimage import io,color\n",
        "\n",
        "print(\"Imported LIbraries Successfully\")"
      ],
      "execution_count": 2,
      "outputs": [
        {
          "output_type": "stream",
          "text": [
            "Imported LIbraries Successfully\n"
          ],
          "name": "stdout"
        }
      ]
    },
    {
      "metadata": {
        "id": "ZCZ_HCVuJigr",
        "colab_type": "text"
      },
      "cell_type": "markdown",
      "source": [
        "## Function for splitting color channels \n"
      ]
    },
    {
      "metadata": {
        "id": "LNrxvlDNJQkH",
        "colab_type": "code",
        "colab": {}
      },
      "cell_type": "code",
      "source": [
        "def Split(src):\n",
        "    b,g,r = cv2.split(src);\n",
        "    green = np.matrix(g);\n",
        "    red = np.matrix(r);\n",
        "    blue = np.matrix(b);\n",
        "    print('rgb mean =',np.mean(r+g+b));\n",
        "\n",
        "    lab = color.rgb2lab(src)\n",
        "    l,a,c = cv2.split(lab);\n",
        "    x = np.matrix(l);\n",
        "    y = np.matrix(a);\n",
        "    z = np.matrix(c);\n",
        "    print('lab mean =',np.mean(x+y+z));"
      ],
      "execution_count": 0,
      "outputs": []
    },
    {
      "metadata": {
        "id": "QVJDLRsbKJM7",
        "colab_type": "text"
      },
      "cell_type": "markdown",
      "source": [
        "## Estimating Entropy\n",
        "**Input** is the normalised grayscale image and a positive number which serves as base of logarithm in entropy estimation.\n",
        "\n",
        "**Returns** entropy as a floating point number. "
      ]
    },
    {
      "metadata": {
        "id": "o7AGQY6QKNFh",
        "colab_type": "code",
        "colab": {}
      },
      "cell_type": "code",
      "source": [
        "def Entropy(normal, base = 2):  #2 is for log to the base 2\n",
        "\n",
        "    _, counts = unique(normal, return_counts=True)\n",
        "    return scipy_entropy(counts, base=base)"
      ],
      "execution_count": 0,
      "outputs": []
    },
    {
      "metadata": {
        "id": "p_BbL8HULrgz",
        "colab_type": "text"
      },
      "cell_type": "markdown",
      "source": [
        "## Estimating Contrast of ROI\n",
        "**Input** is the grascale image of ROI and returns the **contrast** as a floating point number. "
      ]
    },
    {
      "metadata": {
        "id": "tDn_ZmzzMii_",
        "colab_type": "code",
        "colab": {}
      },
      "cell_type": "code",
      "source": [
        "def Roi_Contrast(signal): \n",
        "    a = np.array(signal)\n",
        "    normal = np.divide(a,255)\n",
        "    b = np.mean(normal,dtype=np.float64)\n",
        "    height,width = normal.shape[:2]\n",
        "\n",
        "    for ix,iy in np.ndindex(normal.shape):\n",
        "      \n",
        "            c = normal[ix,iy]\n",
        "            d = c-b\n",
        "            d = d*d\n",
        "            e = d\n",
        "            d = d+e        \n",
        "                        \n",
        "    den = width*height\n",
        "    rms = d/den\n",
        "    return (math.sqrt(rms))    \n",
        "\n"
      ],
      "execution_count": 0,
      "outputs": []
    }
  ]
}