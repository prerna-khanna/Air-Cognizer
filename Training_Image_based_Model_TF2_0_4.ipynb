{
  "nbformat": 4,
  "nbformat_minor": 0,
  "metadata": {
    "colab": {
      "name": "Training Image based Model TF2.0_4.ipynb",
      "version": "0.3.2",
      "provenance": [],
      "include_colab_link": true
    },
    "kernelspec": {
      "name": "python3",
      "display_name": "Python 3"
    }
  },
  "cells": [
    {
      "cell_type": "markdown",
      "metadata": {
        "id": "view-in-github",
        "colab_type": "text"
      },
      "source": [
        "<a href=\"https://colab.research.google.com/github/prerna-khanna/Air-Cognizer/blob/master/Training_Image_based_Model_TF2_0_4.ipynb\" target=\"_parent\"><img src=\"https://colab.research.google.com/assets/colab-badge.svg\" alt=\"Open In Colab\"/></a>"
      ]
    },
    {
      "metadata": {
        "id": "bIlBkA44-ZGK",
        "colab_type": "text"
      },
      "cell_type": "markdown",
      "source": [
        "This code trains the Image based Model based on Image Features extracted using TF 2.0"
      ]
    },
    {
      "metadata": {
        "id": "q_SpRtwg-nOE",
        "colab_type": "text"
      },
      "cell_type": "markdown",
      "source": [
        "## Installing Libraries"
      ]
    },
    {
      "metadata": {
        "id": "b47vXBwTmxfY",
        "colab_type": "code",
        "colab": {}
      },
      "cell_type": "code",
      "source": [
        "!pip install --upgrade tensorflow==2.0.0-alpha0"
      ],
      "execution_count": 0,
      "outputs": []
    },
    {
      "metadata": {
        "id": "7hSX50xtms62",
        "colab_type": "code",
        "colab": {
          "base_uri": "https://localhost:8080/",
          "height": 34
        },
        "outputId": "552b8475-f5a2-4a66-83c3-0f7a447964d3"
      },
      "cell_type": "code",
      "source": [
        "from __future__ import absolute_import, division, print_function, unicode_literals\n",
        "import tensorflow as tf\n",
        "from tensorflow import keras\n",
        "import numpy as np\n",
        "import matplotlib.pyplot as plt\n",
        "print(tf.__version__)\n",
        "import pandas as pd"
      ],
      "execution_count": 26,
      "outputs": [
        {
          "output_type": "stream",
          "text": [
            "2.0.0-alpha0\n"
          ],
          "name": "stdout"
        }
      ]
    },
    {
      "metadata": {
        "id": "YOgDWnB4-qdp",
        "colab_type": "text"
      },
      "cell_type": "markdown",
      "source": [
        "## Reading the Dataset"
      ]
    },
    {
      "metadata": {
        "id": "PGSaHLvhnNWB",
        "colab_type": "code",
        "colab": {
          "base_uri": "https://localhost:8080/",
          "height": 34
        },
        "outputId": "7fcd2239-4485-4fc5-ad1e-585eb4cc8e20"
      },
      "cell_type": "code",
      "source": [
        "!git clone https://github.com/prerna-khanna/Air-Cognizer.git\n",
        "dataset = pd.read_csv('/content/Air-Cognizer/dataset.csv')\n",
        "X_train = dataset.iloc[0:89, 5:12].values  \n",
        "X_test = dataset.iloc[3:4, 5:12].values\n",
        "y_train = dataset.iloc[0:89, 3:4].values\n",
        "y_test = dataset.iloc[3:4, 3:4].values\n"
      ],
      "execution_count": 21,
      "outputs": [
        {
          "output_type": "stream",
          "text": [
            "fatal: destination path 'Air-Cognizer' already exists and is not an empty directory.\n"
          ],
          "name": "stdout"
        }
      ]
    },
    {
      "metadata": {
        "id": "QGyyZOuf-v2W",
        "colab_type": "text"
      },
      "cell_type": "markdown",
      "source": [
        "## Creating the Model"
      ]
    },
    {
      "metadata": {
        "id": "yOt5QCtunebp",
        "colab_type": "code",
        "colab": {}
      },
      "cell_type": "code",
      "source": [
        "model = keras.Sequential([\n",
        "    keras.layers.Dense(64, activation=tf.nn.relu),\n",
        "    #keras.layers.Dense(32, activation=tf.nn.relu),\n",
        "    keras.layers.Dense(1)\n",
        "  ])"
      ],
      "execution_count": 0,
      "outputs": []
    },
    {
      "metadata": {
        "id": "BM3Adb_r-0d_",
        "colab_type": "text"
      },
      "cell_type": "markdown",
      "source": [
        "## Training the Model"
      ]
    },
    {
      "metadata": {
        "id": "YpdtEVFsoTHA",
        "colab_type": "code",
        "colab": {}
      },
      "cell_type": "code",
      "source": [
        "model.compile(optimizer='adam',\n",
        "              loss='mean_squared_error',\n",
        "              metrics=['accuracy'],learning_rate=0.001)\n",
        "\n",
        "model.fit(X_train, y_train, epochs=1500)"
      ],
      "execution_count": 0,
      "outputs": []
    },
    {
      "metadata": {
        "id": "0dtocHTUonQF",
        "colab_type": "code",
        "colab": {
          "base_uri": "https://localhost:8080/",
          "height": 51
        },
        "outputId": "56cc5e46-2d64-49aa-8336-0a1d89737ea3"
      },
      "cell_type": "code",
      "source": [
        "print(\"prediction = %f\" % model.predict(X_test).item(0))\n",
        "pred = model.predict(X_test).item(0)\n",
        "error = abs(pred - y_test).item(0)\n",
        "print(\"error \", error)"
      ],
      "execution_count": 15,
      "outputs": [
        {
          "output_type": "stream",
          "text": [
            "prediction = 74.553116\n",
            "error  19.626884155273444\n"
          ],
          "name": "stdout"
        }
      ]
    },
    {
      "metadata": {
        "id": "vpZ5L-_H_Cdf",
        "colab_type": "text"
      },
      "cell_type": "markdown",
      "source": [
        "## Converting to TFLite Model for Android"
      ]
    },
    {
      "metadata": {
        "id": "epiPDBDO_JJU",
        "colab_type": "code",
        "colab": {}
      },
      "cell_type": "code",
      "source": [
        "# Save tf.keras model in HDF5 format.\n",
        "keras_file = \"keras_model.h5\"\n",
        "tf.keras.models.save_model(model, keras_file)\n",
        "\n",
        "# Convert to TensorFlow Lite model.\n",
        "converter = tf.lite.TFLiteConverter.from_keras_model_file(keras_file)\n",
        "tflite_model = converter.convert()\n",
        "open(\"converted_model.tflite\", \"wb\").write(tflite_model)"
      ],
      "execution_count": 0,
      "outputs": []
    }
  ]
}